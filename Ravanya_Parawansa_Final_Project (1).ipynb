{
  "nbformat": 4,
  "nbformat_minor": 0,
  "metadata": {
    "colab": {
      "name": "Ravanya Parawansa_Final_Project.ipynb",
      "provenance": []
    },
    "kernelspec": {
      "name": "python3",
      "display_name": "Python 3"
    },
    "language_info": {
      "name": "python"
    }
  },
  "cells": [
    {
      "cell_type": "markdown",
      "metadata": {
        "id": "kA9Ac7lpVSeM"
      },
      "source": [
        "# Program untuk Mengirim Email\n",
        "Program ini dapat mengirimkan email kepada beberapa penerima. Email yang dikirim akan memiliki subject. Program tertera dengan bahasa inggris yang memudahkan saya untuk lebih mengertu. Di bawah program, terdapat beberapa langkah untuk mencapai program tersebut yang memperlihatkan pemikiran saya berdasarkan referensi yang saya dapatkan.\n",
        "#........\n"
      ]
    },
    {
      "cell_type": "markdown",
      "metadata": {
        "id": "WQdJ2743uPbk"
      },
      "source": [
        "##PROGRAM\n",
        "\n",
        "This is the program. Please refer to the steps down below to know how I got the code, as well as the references."
      ]
    },
    {
      "cell_type": "code",
      "metadata": {
        "id": "oiSLKDCzUTbi"
      },
      "source": [
        ""
      ],
      "execution_count": null,
      "outputs": []
    },
    {
      "cell_type": "code",
      "metadata": {
        "colab": {
          "base_uri": "https://localhost:8080/"
        },
        "id": "ASxmID1YDkIw",
        "outputId": "d8662266-b6d1-4c2a-e802-4032dae9088b"
      },
      "source": [
        "#Python code to send mail\n",
        "import smtplib, ssl\n",
        "from email.mime.multipart import MIMEMultipart\n",
        "from email.mime.text import MIMEText\n",
        "\n",
        "#receiver file\n",
        "textfile = open(\"receiver_list.txt\", \"w\")\n",
        "for element in receiver_list:\n",
        "    textfile.write(element + \",\")\n",
        "textfile.close()\n",
        "\n",
        "#opening\n",
        "print(\"Hi there! Let's send an email\\n\")\n",
        "\n",
        "#receiver list\n",
        "receiver_list = []\n",
        "\n",
        "n = int(input(\"Please enter the number of email recipients : \"))\n",
        "for i in range(0, n):\n",
        "\tele = input(\"enter the recipient email address : \")\n",
        "\n",
        "\treceiver_list.append(ele) # adding the element\n",
        "\t\n",
        "print(\"\\nThe recipient email has been added.\")\n",
        "print(\"-----------------------------------\\n\")\n",
        "\n",
        "try:\n",
        "    port = 465  # For SSL\n",
        "    smtp_server = \"smtp.gmail.com\"\n",
        "    sender_email = input('Enter sender address: ')\n",
        "    receiver_email = receiver_list\n",
        "    password = input(\"Type your password and press enter: \")\n",
        "    message = MIMEMultipart(\"plain\")\n",
        "    message[\"Subject\"] = input('Enter the email subject: ')\n",
        "    body_email = MIMEText(input('Enter the contents of the email: '))\n",
        "    message.attach(body_email)\n",
        "\n",
        "    context = ssl.create_default_context()\n",
        "    with smtplib.SMTP_SSL(smtp_server, port, context=context) as server:\n",
        "        server.login(sender_email, password)\n",
        "        server.sendmail(sender_email, receiver_email, message.as_string())\n",
        "\n",
        "    print(\"\\nYour email has been delivered.\")\n",
        "    print(\"-----------------------------------\\n\")\n",
        "\n",
        "except Exception:\n",
        "    print(\"\\nMail delivery failed.\")\n",
        "    print(\"-----------------------------------\\n\")"
      ],
      "execution_count": 104,
      "outputs": [
        {
          "output_type": "stream",
          "name": "stdout",
          "text": [
            "Hi there! Let's send an email\n",
            "\n",
            "Please enter the number of email recipients : 2\n",
            "enter the recipient email address : vanyaravanya@yahoo.com\n",
            "enter the recipient email address : vanyaravanya@gmail.com\n",
            "\n",
            "The recipient email has been added.\n",
            "-----------------------------------\n",
            "\n",
            "Enter sender address: pythonrv2@gmail.com\n",
            "Type your password and press enter: Python789\n",
            "Enter the email subject: Hi there!\n",
            "Enter the contents of the email: This is an email sent from python.\n",
            "\n",
            "Your email has been delivered.\n",
            "-----------------------------------\n",
            "\n"
          ]
        }
      ]
    },
    {
      "cell_type": "markdown",
      "metadata": {
        "id": "ZRlYB5x7ZkQr"
      },
      "source": [
        "###1. Starting a Secure SMTP Connection\n",
        "\n",
        "Using SSL (Secure Sockets Layer) to make sure that the SMTP connection is encrypted, so that your message and login credentials are not easily accessed by others. The email used here (pythonrv2@gmail.com) is a *throwaway account*. The password is **Python789**.\n",
        "\n",
        "*code reference: https://realpython.com/python-send-email/* "
      ]
    },
    {
      "cell_type": "code",
      "metadata": {
        "id": "RH1LWClU1-V7"
      },
      "source": [
        "import smtplib, ssl\n",
        "\n",
        "port = 465  # For SSL\n",
        "password = input(\"Type your password and press enter: \")\n",
        "\n",
        "# Create a secure SSL context\n",
        "context = ssl.create_default_context()\n",
        "\n",
        "with smtplib.SMTP_SSL(\"smtp.gmail.com\", port, context=context) as server:\n",
        "    server.login(\"pythonrv2@gmail.com\", password)\n",
        "    # TODO: Send email here"
      ],
      "execution_count": null,
      "outputs": []
    },
    {
      "cell_type": "markdown",
      "metadata": {
        "id": "ZuYC5BT_bCqm"
      },
      "source": [
        "###2. Sending Plain-text Email\n",
        "\n",
        "Using SSL and the same throwaway account.\n",
        "\n",
        "*code reference: https://realpython.com/python-send-email/*"
      ]
    },
    {
      "cell_type": "code",
      "metadata": {
        "id": "XIwTvJBHbBVF"
      },
      "source": [
        "import smtplib, ssl\n",
        "\n",
        "port = 465  # For SSL\n",
        "smtp_server = \"smtp.gmail.com\"\n",
        "sender_email = \"pythonrv2@gmail.com\"  # Enter your address\n",
        "receiver_email = \"vanyaravanya@gmail.com\"  # Enter receiver address\n",
        "password = input(\"Type your password and press enter: \")\n",
        "message = \"\"\"\\\n",
        "Subject: Hi there\n",
        "\n",
        "This message is sent from Python.\"\"\"\n",
        "\n",
        "context = ssl.create_default_context()\n",
        "with smtplib.SMTP_SSL(smtp_server, port, context=context) as server:\n",
        "    server.login(sender_email, password)\n",
        "    server.sendmail(sender_email, receiver_email, message)\n",
        "\n",
        "print(\"\\nYour email has been delivered.\")"
      ],
      "execution_count": null,
      "outputs": []
    },
    {
      "cell_type": "markdown",
      "metadata": {
        "id": "pgTluigjA5mI"
      },
      "source": [
        "##3. Sending Email to Multiple Receivers\n",
        "\n",
        "a\n",
        "\n",
        "*code reference: https://www.etutorialspoint.com/index.php/265-python-send-mail-to-multiple-recipients-using-smtp-server*"
      ]
    },
    {
      "cell_type": "code",
      "metadata": {
        "colab": {
          "base_uri": "https://localhost:8080/"
        },
        "id": "KsXsirMCA6QU",
        "outputId": "43dbdcc8-7133-4901-80cf-5d1cf9367a9b"
      },
      "source": [
        "#Python code to send mail\n",
        "import smtplib, ssl\n",
        "\n",
        "try:\n",
        "    port = 465  # For SSL\n",
        "    smtp_server = \"smtp.gmail.com\"\n",
        "    sender_email = \"pythonrv2@gmail.com\"  # Enter your address\n",
        "    receiver_email = \"vanyaravanya@gmail.com\"  # Enter receiver address\n",
        "    password = input(\"Type your password and press enter: \")\n",
        "    message = \"\"\"\\\n",
        "    Subject: Hi there\n",
        "\n",
        "    This message is sent from Python.\"\"\"\n",
        "\n",
        "    context = ssl.create_default_context()\n",
        "    with smtplib.SMTP_SSL(smtp_server, port, context=context) as server:\n",
        "        server.login(sender_email, password)\n",
        "        server.sendmail(sender_email, receiver_email, message)\n",
        "    \n",
        "    print(\"\\nYour email has been delivered.\")\n",
        "\n",
        "except Exception:\n",
        "    print(\"Mail delivery failed.\")"
      ],
      "execution_count": 38,
      "outputs": [
        {
          "output_type": "stream",
          "name": "stdout",
          "text": [
            "Type your password and press enter: Python789\n",
            "\n",
            "Your email has been delivered.\n"
          ]
        }
      ]
    },
    {
      "cell_type": "markdown",
      "metadata": {
        "id": "UnffThCheTZh"
      },
      "source": [
        "###4. Receiver List\n",
        "\n",
        "A list of the recipients so that the email will be sent to multiple recipients.\n",
        "\n",
        "*code reference: https://www.geeksforgeeks.org/python-get-a-list-as-input-from-user/*"
      ]
    },
    {
      "cell_type": "code",
      "metadata": {
        "colab": {
          "base_uri": "https://localhost:8080/"
        },
        "id": "YAYkU2rD4vSJ",
        "outputId": "7f574424-400e-4349-ab3f-06d5b46571a3"
      },
      "source": [
        "# creating an empty list\n",
        "receiver_list = []\n",
        "\n",
        "# number of elements as input\n",
        "n = int(input(\"Please enter the number of email recipients : \"))\n",
        "\n",
        "# iterating till the range\n",
        "for i in range(0, n):\n",
        "\tele = str(input(\"enter the recipient email address : \"))\n",
        "\n",
        "\treceiver_list.append(ele) # adding the element\n",
        "\t\n",
        "print(\"\\nThe recipient email has been added.\")\n",
        "\n",
        "#list to file\n",
        "textfile = open(\"receiver_list.txt\", \"w\")\n",
        "for element in receiver_list:\n",
        "    textfile.write(element + \"\\n\")\n",
        "textfile.close()"
      ],
      "execution_count": 67,
      "outputs": [
        {
          "output_type": "stream",
          "name": "stdout",
          "text": [
            "Please enter the number of email recipients : 2\n",
            "enter the recipient email address : vanyaravanya@yahoo.com\n",
            "enter the recipient email address : vanyaravanya@gmail.com\n",
            "\n",
            "The recipient email has been added.\n"
          ]
        }
      ]
    },
    {
      "cell_type": "code",
      "metadata": {
        "colab": {
          "base_uri": "https://localhost:8080/"
        },
        "id": "ukSLwWyORTZo",
        "outputId": "76099cbb-94b6-4765-8b1e-60476eb5e4d5"
      },
      "source": [
        "print(receiver_list)\n",
        "receiver_list"
      ],
      "execution_count": 82,
      "outputs": [
        {
          "output_type": "stream",
          "name": "stdout",
          "text": [
            "['vanyaravanya@yahoo.com', 'vanyaravanya@gmail.com']\n"
          ]
        },
        {
          "output_type": "execute_result",
          "data": {
            "text/plain": [
              "['vanyaravanya@yahoo.com', 'vanyaravanya@gmail.com']"
            ]
          },
          "metadata": {},
          "execution_count": 82
        }
      ]
    }
  ]
}